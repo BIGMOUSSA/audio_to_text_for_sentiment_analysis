{
 "cells": [
  {
   "cell_type": "code",
   "execution_count": 1,
   "metadata": {},
   "outputs": [
    {
     "name": "stderr",
     "output_type": "stream",
     "text": [
      "c:\\Users\\ANSD\\anaconda3\\envs\\asr_venv\\lib\\site-packages\\tqdm\\auto.py:21: TqdmWarning: IProgress not found. Please update jupyter and ipywidgets. See https://ipywidgets.readthedocs.io/en/stable/user_install.html\n",
      "  from .autonotebook import tqdm as notebook_tqdm\n"
     ]
    }
   ],
   "source": [
    "from faster_whisper import WhisperModel\n",
    "from transformers import pipeline"
   ]
  },
  {
   "cell_type": "code",
   "execution_count": 2,
   "metadata": {},
   "outputs": [],
   "source": [
    "#from fastapi import FastAPI, File, UploadFile\n",
    "#from pydantic import BaseModel\n",
    "#from transformers import AutoTokenizer, AutoModelForSequenceClassification\n",
    "#from faster_whisper import WhisperModel\n",
    "#from pydub import AudioSegment\n",
    "#from io import BytesIO\n",
    "#import soundfile as sf\n",
    "# Load the tokenizer and model\n",
    "# Load model directly\n",
    "#from transformers import AutoTokenizer, AutoModelForSequenceClassification\n",
    "\n",
    "\n",
    "model = WhisperModel(\"large-v2\")\n",
    "\n",
    "# Use a pipeline as a high-level helper\n",
    "\n",
    "pipe = pipeline(\"text-classification\", model=\"Peed911/french_sentiment_analysis\")\n",
    "\n",
    "def transcribe_audio(audio):\n",
    "  segments, info = model.transcribe(audio)\n",
    "  for segment in segments:\n",
    "    text = segment.text\n",
    "  return text\n",
    "\n",
    "def sentiment_analyse_audio(audio):\n",
    "  \"\"\"\n",
    "  input : audio files\n",
    "\n",
    "  output : text\n",
    "\n",
    "  \"\"\"\n",
    "  text = transcribe_audio(audio)\n",
    "  sentiment = pipe(text)\n",
    "  final_text = \"En analysant l'audio d'entrée, le modèle Whisper d'openai transcrit le texte suivant : \\n << %s >>, \\n et prédit un sentiment << %s >> avec << %.2f >> pourcent de probabilité \"%(text, sentiment[0][\"label\"], 100*sentiment[0][\"score\"])\n",
    "  return print(final_text)\n",
    "\n",
    "\n",
    "#if __name__ == \"__main__\":\n",
    "   "
   ]
  },
  {
   "cell_type": "code",
   "execution_count": null,
   "metadata": {},
   "outputs": [],
   "source": [
    "audio_path = \"common_voice_fr_17299384.wav\"\n",
    "print(sentiment_analyse_audio(audio_path))"
   ]
  }
 ],
 "metadata": {
  "kernelspec": {
   "display_name": "asr_venv",
   "language": "python",
   "name": "python3"
  },
  "language_info": {
   "codemirror_mode": {
    "name": "ipython",
    "version": 3
   },
   "file_extension": ".py",
   "mimetype": "text/x-python",
   "name": "python",
   "nbconvert_exporter": "python",
   "pygments_lexer": "ipython3",
   "version": "3.8.18"
  }
 },
 "nbformat": 4,
 "nbformat_minor": 2
}
